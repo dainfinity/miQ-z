{
  "nbformat": 4,
  "nbformat_minor": 0,
  "metadata": {
    "colab": {
      "provenance": [],
      "authorship_tag": "ABX9TyNgujvuNxVeQrM2S2tiX+8U",
      "include_colab_link": true
    },
    "kernelspec": {
      "name": "python3",
      "display_name": "Python 3"
    },
    "language_info": {
      "name": "python"
    }
  },
  "cells": [
    {
      "cell_type": "markdown",
      "metadata": {
        "id": "view-in-github",
        "colab_type": "text"
      },
      "source": [
        "<a href=\"https://colab.research.google.com/github/dainfinity/miQ-z/blob/main/QMusic.ipynb\" target=\"_parent\"><img src=\"https://colab.research.google.com/assets/colab-badge.svg\" alt=\"Open In Colab\"/></a>"
      ]
    },
    {
      "cell_type": "markdown",
      "source": [
        "# ★Quantum Music by miQ'z★\n",
        "(ひとまず定式化の実装だけなので、3/11発表時での方針、コスト関数用いる)\n",
        "\n",
        "# 1.概要\n",
        "- 気分に合わせた伴奏のコード進行を選択、量子アニーリングの最適化により、伴奏に合った主旋律を生成する。\n",
        "\n",
        "- 生成された音楽を聴いてもらい、フィードバックをもらう。それに応じてQUBOをPersonalizeしていく。\n",
        "\n",
        "参考: https://qard.is.tohoku.ac.jp/T-Wave/?p=3093\n",
        "\n",
        "\n",
        "\n",
        "# 2.定式化\n",
        "どの音が、どのタイミングでなるかという変数を用意し、その組み合わせを最適化していく。\n",
        "\n",
        "\n",
        "**$x_{ij}$ : $i$番目に$j$音が鳴る。**\n",
        "\n",
        "$i\\in N = \\{0,1,2,3,...\\}$\n",
        "\n",
        "$j\\in P = \\{C4,D4,E4,F4,G4,A4,B4\\}$ など(もっと用意してもよい)\n",
        "\n",
        "例えば、4分の4拍子を仮定して、$n = \\mathrm{len}(N) = 8$とすると、これは2小節分生成するという事になる。\n",
        "\n",
        "## 2.1 制約: 1音節には1音のみ\n",
        "\n",
        "1音節には1音のみになってほしいので、\n",
        "\n",
        "\\begin{equation}\n",
        "\\displaystyle \\sum_j x_{ij} = 1\n",
        "\\end{equation}\n",
        "\n",
        "となる必要がある。この制約は非常に強くするべき。\n",
        "\n",
        "## 2.2 制約: 同じ音の連続を防ぐ\n",
        "\n",
        "連続して何度も同じ音が鳴ってしまってはつまらないので、同じ音は連続2回まで許すことにする。ある音jが2回より多くならないということは\n",
        "\n",
        "\\begin{equation}\n",
        "\\displaystyle \\sum_i x_{i,j} + x_{i+1,j} + x_{i+2,j} \\leq 2 \n",
        "\\end{equation}\n",
        "\n",
        "で表すことができる。\n",
        "\n",
        "## 2.3 制約: 単体でなると嫌な音\n",
        "(調査不足なので、一旦飛ばす)\n",
        "\n",
        "\n",
        "## 2.4 制約: 伴奏のコードに合わせた制約\n",
        "伴奏のコードが「C」だった場合、主旋律では「ド、ミ、ソ」(C4,E4,G4)のみを使うのが望ましい。\n",
        "一通り楽譜を見た時に、「音符の個数 = ドミソの合計」になっていてほしいので、\n",
        "\n",
        "\\begin{equation}\n",
        "\\displaystyle \\sum_i x_{i,C4} + x_{i,E4} + x_{i,G4} = n\n",
        "\\end{equation}\n",
        "\n",
        "これはもっと一般化する必要があるが、ここでは一旦伴奏のコードが「C」の場合だけ考えて実装する。\n",
        "\n",
        "## 2.5 ブラックボックス最適化\n",
        "ユーザの好みに合わせて、QUBOを更新していく。\n",
        "\n",
        "今回はまだフィードバックもくそもないので、適当に。"
      ],
      "metadata": {
        "id": "2NEDWEPIcvOA"
      }
    },
    {
      "cell_type": "markdown",
      "source": [
        "------実装-----"
      ],
      "metadata": {
        "id": "tyyCvvzRkosI"
      }
    },
    {
      "cell_type": "code",
      "source": [
        "pip install dwave-ocean-sdk"
      ],
      "metadata": {
        "colab": {
          "base_uri": "https://localhost:8080/"
        },
        "id": "lE1OZ33dlDhD",
        "outputId": "515177f5-26a9-4c39-d536-c657bb0b4a02"
      },
      "execution_count": 1,
      "outputs": [
        {
          "output_type": "stream",
          "name": "stdout",
          "text": [
            "Looking in indexes: https://pypi.org/simple, https://us-python.pkg.dev/colab-wheels/public/simple/\n",
            "Collecting dwave-ocean-sdk\n",
            "  Downloading dwave_ocean_sdk-6.3.0-py3-none-any.whl (8.5 kB)\n",
            "Collecting penaltymodel==1.0.2\n",
            "  Downloading penaltymodel-1.0.2-py3-none-any.whl (36 kB)\n",
            "Collecting dwavebinarycsp==0.2.0\n",
            "  Downloading dwavebinarycsp-0.2.0-py3-none-any.whl (35 kB)\n",
            "Collecting dwave-neal==0.6.0\n",
            "  Downloading dwave_neal-0.6.0-py3-none-any.whl (8.7 kB)\n",
            "Collecting dwave-hybrid==0.6.10\n",
            "  Downloading dwave_hybrid-0.6.10-py3-none-any.whl (74 kB)\n",
            "\u001b[2K     \u001b[90m━━━━━━━━━━━━━━━━━━━━━━━━━━━━━━━━━━━━━━━━\u001b[0m \u001b[32m74.8/74.8 KB\u001b[0m \u001b[31m5.4 MB/s\u001b[0m eta \u001b[36m0:00:00\u001b[0m\n",
            "\u001b[?25hCollecting dimod==0.12.3\n",
            "  Downloading dimod-0.12.3-cp39-cp39-manylinux_2_17_x86_64.manylinux2014_x86_64.whl (15.8 MB)\n",
            "\u001b[2K     \u001b[90m━━━━━━━━━━━━━━━━━━━━━━━━━━━━━━━━━━━━━━━━\u001b[0m \u001b[32m15.8/15.8 MB\u001b[0m \u001b[31m32.6 MB/s\u001b[0m eta \u001b[36m0:00:00\u001b[0m\n",
            "\u001b[?25hCollecting pyqubo==1.4.0\n",
            "  Downloading pyqubo-1.4.0-cp39-cp39-manylinux_2_17_x86_64.manylinux2014_x86_64.whl (245 kB)\n",
            "\u001b[2K     \u001b[90m━━━━━━━━━━━━━━━━━━━━━━━━━━━━━━━━━━━━━━━\u001b[0m \u001b[32m245.5/245.5 KB\u001b[0m \u001b[31m7.8 MB/s\u001b[0m eta \u001b[36m0:00:00\u001b[0m\n",
            "\u001b[?25hCollecting dwave-preprocessing==0.5.4\n",
            "  Downloading dwave_preprocessing-0.5.4-cp39-cp39-manylinux_2_17_x86_64.manylinux2014_x86_64.whl (3.6 MB)\n",
            "\u001b[2K     \u001b[90m━━━━━━━━━━━━━━━━━━━━━━━━━━━━━━━━━━━━━━━━\u001b[0m \u001b[32m3.6/3.6 MB\u001b[0m \u001b[31m14.9 MB/s\u001b[0m eta \u001b[36m0:00:00\u001b[0m\n",
            "\u001b[?25hCollecting dwave-cloud-client==0.10.4\n",
            "  Downloading dwave_cloud_client-0.10.4-py3-none-any.whl (111 kB)\n",
            "\u001b[2K     \u001b[90m━━━━━━━━━━━━━━━━━━━━━━━━━━━━━━━━━━━━━━━\u001b[0m \u001b[32m111.4/111.4 KB\u001b[0m \u001b[31m4.2 MB/s\u001b[0m eta \u001b[36m0:00:00\u001b[0m\n",
            "\u001b[?25hCollecting minorminer==0.2.11\n",
            "  Downloading minorminer-0.2.11-cp39-cp39-manylinux_2_17_x86_64.manylinux2014_x86_64.whl (10.1 MB)\n",
            "\u001b[2K     \u001b[90m━━━━━━━━━━━━━━━━━━━━━━━━━━━━━━━━━━━━━━━━\u001b[0m \u001b[32m10.1/10.1 MB\u001b[0m \u001b[31m59.1 MB/s\u001b[0m eta \u001b[36m0:00:00\u001b[0m\n",
            "\u001b[?25hCollecting dwave-samplers==1.0.0\n",
            "  Downloading dwave_samplers-1.0.0-cp39-cp39-manylinux_2_17_x86_64.manylinux2014_x86_64.whl (6.0 MB)\n",
            "\u001b[2K     \u001b[90m━━━━━━━━━━━━━━━━━━━━━━━━━━━━━━━━━━━━━━━━\u001b[0m \u001b[32m6.0/6.0 MB\u001b[0m \u001b[31m59.0 MB/s\u001b[0m eta \u001b[36m0:00:00\u001b[0m\n",
            "\u001b[?25hCollecting dwave-system==1.18.0\n",
            "  Downloading dwave_system-1.18.0-py3-none-any.whl (103 kB)\n",
            "\u001b[2K     \u001b[90m━━━━━━━━━━━━━━━━━━━━━━━━━━━━━━━━━━━━━━━\u001b[0m \u001b[32m103.5/103.5 KB\u001b[0m \u001b[31m6.5 MB/s\u001b[0m eta \u001b[36m0:00:00\u001b[0m\n",
            "\u001b[?25hCollecting dwave-tabu==0.5.0\n",
            "  Downloading dwave_tabu-0.5.0-py3-none-any.whl (9.2 kB)\n",
            "Collecting dwave-inspector==0.4.1\n",
            "  Downloading dwave_inspector-0.4.1-py3-none-any.whl (31 kB)\n",
            "Collecting dwave-networkx==0.8.13\n",
            "  Downloading dwave_networkx-0.8.13-py3-none-any.whl (102 kB)\n",
            "\u001b[2K     \u001b[90m━━━━━━━━━━━━━━━━━━━━━━━━━━━━━━━━━━━━━━━\u001b[0m \u001b[32m102.4/102.4 KB\u001b[0m \u001b[31m8.0 MB/s\u001b[0m eta \u001b[36m0:00:00\u001b[0m\n",
            "\u001b[?25hCollecting dwave-greedy==0.3.0\n",
            "  Downloading dwave_greedy-0.3.0-py3-none-any.whl (10 kB)\n",
            "Requirement already satisfied: numpy<2.0.0,>=1.17.3 in /usr/local/lib/python3.9/dist-packages (from dimod==0.12.3->dwave-ocean-sdk) (1.22.4)\n",
            "Collecting homebase>=1.0\n",
            "  Downloading homebase-1.0.1-py2.py3-none-any.whl (11 kB)\n",
            "Collecting plucky>=0.4.3\n",
            "  Downloading plucky-0.4.3-py2.py3-none-any.whl (10 kB)\n",
            "Requirement already satisfied: pydantic>=1.7.3 in /usr/local/lib/python3.9/dist-packages (from dwave-cloud-client==0.10.4->dwave-ocean-sdk) (1.10.6)\n",
            "Requirement already satisfied: click>=7.0 in /usr/local/lib/python3.9/dist-packages (from dwave-cloud-client==0.10.4->dwave-ocean-sdk) (8.1.3)\n",
            "Collecting diskcache>=5.2.1\n",
            "  Downloading diskcache-5.4.0-py3-none-any.whl (44 kB)\n",
            "\u001b[2K     \u001b[90m━━━━━━━━━━━━━━━━━━━━━━━━━━━━━━━━━━━━━━━\u001b[0m \u001b[32m45.0/45.0 KB\u001b[0m \u001b[31m373.2 kB/s\u001b[0m eta \u001b[36m0:00:00\u001b[0m\n",
            "\u001b[?25hRequirement already satisfied: requests[socks]>=2.18 in /usr/local/lib/python3.9/dist-packages (from dwave-cloud-client==0.10.4->dwave-ocean-sdk) (2.25.1)\n",
            "Requirement already satisfied: python-dateutil>=2.7 in /usr/local/lib/python3.9/dist-packages (from dwave-cloud-client==0.10.4->dwave-ocean-sdk) (2.8.2)\n",
            "Requirement already satisfied: networkx in /usr/local/lib/python3.9/dist-packages (from dwave-hybrid==0.6.10->dwave-ocean-sdk) (3.0)\n",
            "Requirement already satisfied: importlib-metadata>=4.8 in /usr/local/lib/python3.9/dist-packages (from dwave-inspector==0.4.1->dwave-ocean-sdk) (6.0.0)\n",
            "Requirement already satisfied: Flask>=2.2 in /usr/local/lib/python3.9/dist-packages (from dwave-inspector==0.4.1->dwave-ocean-sdk) (2.2.3)\n",
            "Collecting networkx\n",
            "  Downloading networkx-2.8.8-py3-none-any.whl (2.0 MB)\n",
            "\u001b[2K     \u001b[90m━━━━━━━━━━━━━━━━━━━━━━━━━━━━━━━━━━━━━━━━\u001b[0m \u001b[32m2.0/2.0 MB\u001b[0m \u001b[31m34.5 MB/s\u001b[0m eta \u001b[36m0:00:00\u001b[0m\n",
            "\u001b[?25hRequirement already satisfied: scipy>=1.7.3 in /usr/local/lib/python3.9/dist-packages (from dwave-system==1.18.0->dwave-ocean-sdk) (1.10.1)\n",
            "Collecting rectangle-packer>=2.0.1\n",
            "  Downloading rectangle_packer-2.0.1-cp39-cp39-manylinux_2_5_x86_64.manylinux1_x86_64.manylinux_2_17_x86_64.manylinux2014_x86_64.whl (299 kB)\n",
            "\u001b[2K     \u001b[90m━━━━━━━━━━━━━━━━━━━━━━━━━━━━━━━━━━━━━━\u001b[0m \u001b[32m300.0/300.0 KB\u001b[0m \u001b[31m16.4 MB/s\u001b[0m eta \u001b[36m0:00:00\u001b[0m\n",
            "\u001b[?25hCollecting fasteners\n",
            "  Downloading fasteners-0.18-py3-none-any.whl (18 kB)\n",
            "Collecting Deprecated>=1.2.12\n",
            "  Downloading Deprecated-1.2.13-py2.py3-none-any.whl (9.6 kB)\n",
            "Requirement already satisfied: six>=1.15.0 in /usr/local/lib/python3.9/dist-packages (from pyqubo==1.4.0->dwave-ocean-sdk) (1.15.0)\n",
            "Requirement already satisfied: wrapt<2,>=1.10 in /usr/local/lib/python3.9/dist-packages (from Deprecated>=1.2.12->pyqubo==1.4.0->dwave-ocean-sdk) (1.15.0)\n",
            "Requirement already satisfied: Jinja2>=3.0 in /usr/local/lib/python3.9/dist-packages (from Flask>=2.2->dwave-inspector==0.4.1->dwave-ocean-sdk) (3.1.2)\n",
            "Requirement already satisfied: Werkzeug>=2.2.2 in /usr/local/lib/python3.9/dist-packages (from Flask>=2.2->dwave-inspector==0.4.1->dwave-ocean-sdk) (2.2.3)\n",
            "Requirement already satisfied: itsdangerous>=2.0 in /usr/local/lib/python3.9/dist-packages (from Flask>=2.2->dwave-inspector==0.4.1->dwave-ocean-sdk) (2.1.2)\n",
            "Requirement already satisfied: zipp>=0.5 in /usr/local/lib/python3.9/dist-packages (from importlib-metadata>=4.8->dwave-inspector==0.4.1->dwave-ocean-sdk) (3.15.0)\n",
            "Requirement already satisfied: typing-extensions>=4.2.0 in /usr/local/lib/python3.9/dist-packages (from pydantic>=1.7.3->dwave-cloud-client==0.10.4->dwave-ocean-sdk) (4.5.0)\n",
            "Requirement already satisfied: idna<3,>=2.5 in /usr/local/lib/python3.9/dist-packages (from requests[socks]>=2.18->dwave-cloud-client==0.10.4->dwave-ocean-sdk) (2.10)\n",
            "Requirement already satisfied: chardet<5,>=3.0.2 in /usr/local/lib/python3.9/dist-packages (from requests[socks]>=2.18->dwave-cloud-client==0.10.4->dwave-ocean-sdk) (4.0.0)\n",
            "Requirement already satisfied: certifi>=2017.4.17 in /usr/local/lib/python3.9/dist-packages (from requests[socks]>=2.18->dwave-cloud-client==0.10.4->dwave-ocean-sdk) (2022.12.7)\n",
            "Requirement already satisfied: urllib3<1.27,>=1.21.1 in /usr/local/lib/python3.9/dist-packages (from requests[socks]>=2.18->dwave-cloud-client==0.10.4->dwave-ocean-sdk) (1.26.15)\n",
            "Requirement already satisfied: PySocks!=1.5.7,>=1.5.6 in /usr/local/lib/python3.9/dist-packages (from requests[socks]>=2.18->dwave-cloud-client==0.10.4->dwave-ocean-sdk) (1.7.1)\n",
            "Requirement already satisfied: MarkupSafe>=2.0 in /usr/local/lib/python3.9/dist-packages (from Jinja2>=3.0->Flask>=2.2->dwave-inspector==0.4.1->dwave-ocean-sdk) (2.1.2)\n",
            "Installing collected packages: rectangle-packer, plucky, homebase, networkx, fasteners, diskcache, dimod, Deprecated, penaltymodel, dwave-samplers, dwave-preprocessing, dwave-networkx, minorminer, dwavebinarycsp, dwave-tabu, dwave-neal, dwave-greedy, dwave-cloud-client, pyqubo, dwave-system, dwave-inspector, dwave-hybrid, dwave-ocean-sdk\n",
            "  Attempting uninstall: networkx\n",
            "    Found existing installation: networkx 3.0\n",
            "    Uninstalling networkx-3.0:\n",
            "      Successfully uninstalled networkx-3.0\n",
            "Successfully installed Deprecated-1.2.13 dimod-0.12.3 diskcache-5.4.0 dwave-cloud-client-0.10.4 dwave-greedy-0.3.0 dwave-hybrid-0.6.10 dwave-inspector-0.4.1 dwave-neal-0.6.0 dwave-networkx-0.8.13 dwave-ocean-sdk-6.3.0 dwave-preprocessing-0.5.4 dwave-samplers-1.0.0 dwave-system-1.18.0 dwave-tabu-0.5.0 dwavebinarycsp-0.2.0 fasteners-0.18 homebase-1.0.1 minorminer-0.2.11 networkx-2.8.8 penaltymodel-1.0.2 plucky-0.4.3 pyqubo-1.4.0 rectangle-packer-2.0.1\n"
          ]
        }
      ]
    },
    {
      "cell_type": "code",
      "source": [
        "token = \"みんなのtokenを入れる\" "
      ],
      "metadata": {
        "id": "fyBMVVCsk0D5"
      },
      "execution_count": 2,
      "outputs": []
    },
    {
      "cell_type": "code",
      "source": [
        "import numpy as np\n",
        "from dwave.system import DWaveSampler, EmbeddingComposite\n",
        "import dimod\n",
        "import neal"
      ],
      "metadata": {
        "id": "RDFhfbuVlTv2"
      },
      "execution_count": 3,
      "outputs": []
    },
    {
      "cell_type": "code",
      "execution_count": 8,
      "metadata": {
        "id": "nTJDPiZ698rZ"
      },
      "outputs": [],
      "source": [
        "P = [\"C4\",\"D4\",\"E4\",\"F4\",\"G4\",\"A4\",\"B4\"] #ド、レ、ミ、ファ、ソ、ラ、シ\n",
        "n = 8 #4/4で2小節分"
      ]
    },
    {
      "cell_type": "code",
      "source": [
        "# 変数x_{ij}を定義\n",
        "x = []\n",
        "for i in range(n):\n",
        "    for j in P:\n",
        "        x.append(dimod.Binary(f'x_{i,j}'))"
      ],
      "metadata": {
        "id": "NdjxrW6rl75K"
      },
      "execution_count": 33,
      "outputs": []
    },
    {
      "cell_type": "code",
      "source": [
        "x"
      ],
      "metadata": {
        "colab": {
          "base_uri": "https://localhost:8080/"
        },
        "id": "qf5mwE6mojri",
        "outputId": "9bd13631-81d8-4555-e657-424586f85635"
      },
      "execution_count": 34,
      "outputs": [
        {
          "output_type": "execute_result",
          "data": {
            "text/plain": [
              "[BinaryQuadraticModel({\"x_(0, 'C4')\": 1.0}, {}, 0.0, 'BINARY'),\n",
              " BinaryQuadraticModel({\"x_(0, 'D4')\": 1.0}, {}, 0.0, 'BINARY'),\n",
              " BinaryQuadraticModel({\"x_(0, 'E4')\": 1.0}, {}, 0.0, 'BINARY'),\n",
              " BinaryQuadraticModel({\"x_(0, 'F4')\": 1.0}, {}, 0.0, 'BINARY'),\n",
              " BinaryQuadraticModel({\"x_(0, 'G4')\": 1.0}, {}, 0.0, 'BINARY'),\n",
              " BinaryQuadraticModel({\"x_(0, 'A4')\": 1.0}, {}, 0.0, 'BINARY'),\n",
              " BinaryQuadraticModel({\"x_(0, 'B4')\": 1.0}, {}, 0.0, 'BINARY'),\n",
              " BinaryQuadraticModel({\"x_(1, 'C4')\": 1.0}, {}, 0.0, 'BINARY'),\n",
              " BinaryQuadraticModel({\"x_(1, 'D4')\": 1.0}, {}, 0.0, 'BINARY'),\n",
              " BinaryQuadraticModel({\"x_(1, 'E4')\": 1.0}, {}, 0.0, 'BINARY'),\n",
              " BinaryQuadraticModel({\"x_(1, 'F4')\": 1.0}, {}, 0.0, 'BINARY'),\n",
              " BinaryQuadraticModel({\"x_(1, 'G4')\": 1.0}, {}, 0.0, 'BINARY'),\n",
              " BinaryQuadraticModel({\"x_(1, 'A4')\": 1.0}, {}, 0.0, 'BINARY'),\n",
              " BinaryQuadraticModel({\"x_(1, 'B4')\": 1.0}, {}, 0.0, 'BINARY'),\n",
              " BinaryQuadraticModel({\"x_(2, 'C4')\": 1.0}, {}, 0.0, 'BINARY'),\n",
              " BinaryQuadraticModel({\"x_(2, 'D4')\": 1.0}, {}, 0.0, 'BINARY'),\n",
              " BinaryQuadraticModel({\"x_(2, 'E4')\": 1.0}, {}, 0.0, 'BINARY'),\n",
              " BinaryQuadraticModel({\"x_(2, 'F4')\": 1.0}, {}, 0.0, 'BINARY'),\n",
              " BinaryQuadraticModel({\"x_(2, 'G4')\": 1.0}, {}, 0.0, 'BINARY'),\n",
              " BinaryQuadraticModel({\"x_(2, 'A4')\": 1.0}, {}, 0.0, 'BINARY'),\n",
              " BinaryQuadraticModel({\"x_(2, 'B4')\": 1.0}, {}, 0.0, 'BINARY'),\n",
              " BinaryQuadraticModel({\"x_(3, 'C4')\": 1.0}, {}, 0.0, 'BINARY'),\n",
              " BinaryQuadraticModel({\"x_(3, 'D4')\": 1.0}, {}, 0.0, 'BINARY'),\n",
              " BinaryQuadraticModel({\"x_(3, 'E4')\": 1.0}, {}, 0.0, 'BINARY'),\n",
              " BinaryQuadraticModel({\"x_(3, 'F4')\": 1.0}, {}, 0.0, 'BINARY'),\n",
              " BinaryQuadraticModel({\"x_(3, 'G4')\": 1.0}, {}, 0.0, 'BINARY'),\n",
              " BinaryQuadraticModel({\"x_(3, 'A4')\": 1.0}, {}, 0.0, 'BINARY'),\n",
              " BinaryQuadraticModel({\"x_(3, 'B4')\": 1.0}, {}, 0.0, 'BINARY'),\n",
              " BinaryQuadraticModel({\"x_(4, 'C4')\": 1.0}, {}, 0.0, 'BINARY'),\n",
              " BinaryQuadraticModel({\"x_(4, 'D4')\": 1.0}, {}, 0.0, 'BINARY'),\n",
              " BinaryQuadraticModel({\"x_(4, 'E4')\": 1.0}, {}, 0.0, 'BINARY'),\n",
              " BinaryQuadraticModel({\"x_(4, 'F4')\": 1.0}, {}, 0.0, 'BINARY'),\n",
              " BinaryQuadraticModel({\"x_(4, 'G4')\": 1.0}, {}, 0.0, 'BINARY'),\n",
              " BinaryQuadraticModel({\"x_(4, 'A4')\": 1.0}, {}, 0.0, 'BINARY'),\n",
              " BinaryQuadraticModel({\"x_(4, 'B4')\": 1.0}, {}, 0.0, 'BINARY'),\n",
              " BinaryQuadraticModel({\"x_(5, 'C4')\": 1.0}, {}, 0.0, 'BINARY'),\n",
              " BinaryQuadraticModel({\"x_(5, 'D4')\": 1.0}, {}, 0.0, 'BINARY'),\n",
              " BinaryQuadraticModel({\"x_(5, 'E4')\": 1.0}, {}, 0.0, 'BINARY'),\n",
              " BinaryQuadraticModel({\"x_(5, 'F4')\": 1.0}, {}, 0.0, 'BINARY'),\n",
              " BinaryQuadraticModel({\"x_(5, 'G4')\": 1.0}, {}, 0.0, 'BINARY'),\n",
              " BinaryQuadraticModel({\"x_(5, 'A4')\": 1.0}, {}, 0.0, 'BINARY'),\n",
              " BinaryQuadraticModel({\"x_(5, 'B4')\": 1.0}, {}, 0.0, 'BINARY'),\n",
              " BinaryQuadraticModel({\"x_(6, 'C4')\": 1.0}, {}, 0.0, 'BINARY'),\n",
              " BinaryQuadraticModel({\"x_(6, 'D4')\": 1.0}, {}, 0.0, 'BINARY'),\n",
              " BinaryQuadraticModel({\"x_(6, 'E4')\": 1.0}, {}, 0.0, 'BINARY'),\n",
              " BinaryQuadraticModel({\"x_(6, 'F4')\": 1.0}, {}, 0.0, 'BINARY'),\n",
              " BinaryQuadraticModel({\"x_(6, 'G4')\": 1.0}, {}, 0.0, 'BINARY'),\n",
              " BinaryQuadraticModel({\"x_(6, 'A4')\": 1.0}, {}, 0.0, 'BINARY'),\n",
              " BinaryQuadraticModel({\"x_(6, 'B4')\": 1.0}, {}, 0.0, 'BINARY'),\n",
              " BinaryQuadraticModel({\"x_(7, 'C4')\": 1.0}, {}, 0.0, 'BINARY'),\n",
              " BinaryQuadraticModel({\"x_(7, 'D4')\": 1.0}, {}, 0.0, 'BINARY'),\n",
              " BinaryQuadraticModel({\"x_(7, 'E4')\": 1.0}, {}, 0.0, 'BINARY'),\n",
              " BinaryQuadraticModel({\"x_(7, 'F4')\": 1.0}, {}, 0.0, 'BINARY'),\n",
              " BinaryQuadraticModel({\"x_(7, 'G4')\": 1.0}, {}, 0.0, 'BINARY'),\n",
              " BinaryQuadraticModel({\"x_(7, 'A4')\": 1.0}, {}, 0.0, 'BINARY'),\n",
              " BinaryQuadraticModel({\"x_(7, 'B4')\": 1.0}, {}, 0.0, 'BINARY')]"
            ]
          },
          "metadata": {},
          "execution_count": 34
        }
      ]
    },
    {
      "cell_type": "code",
      "source": [
        "# cqmに問題を乗せるおまじない\n",
        "cqm = dimod.ConstrainedQuadraticModel()"
      ],
      "metadata": {
        "id": "SXRB9iaDmxUM"
      },
      "execution_count": 67,
      "outputs": []
    },
    {
      "cell_type": "code",
      "source": [
        "# ユーザからのフィードバックで逐次更新されていくはずのQUBO行列をゼロで初期化\n",
        "p = len(P) #音のバリエーションの個数\n",
        "QUBO_tensor = np.zeros([n,p,n,p]) #Q_{ijkl}という4次元配列\n",
        "QUBO_mat = QUBO_tensor.reshape(n*p, n*p) #Q_{ijkl}を行列に整形"
      ],
      "metadata": {
        "id": "DRLH3Ap5nMeQ"
      },
      "execution_count": 68,
      "outputs": []
    },
    {
      "cell_type": "code",
      "source": [
        "# コスト関数を定義(制約でない部分)\n",
        "cqm.set_objective(sum(sum(QUBO_mat[ij][kl]*x[ij]*x[kl] for kl in range(n*p))for ij in range(n*p)))"
      ],
      "metadata": {
        "id": "z-9mQw0srwNa"
      },
      "execution_count": 70,
      "outputs": []
    },
    {
      "cell_type": "code",
      "source": [
        "# 制約 1音節に1音\n",
        "for i in range(n):\n",
        "    cqm.add_constraint(sum(x[i*p+j] for j in range(p)) == 1,label=f'onehot_{i}')"
      ],
      "metadata": {
        "id": "mt-fYqfexBqo"
      },
      "execution_count": 71,
      "outputs": []
    },
    {
      "cell_type": "code",
      "source": [
        "# 制約 同じ音が2回より多く連続することを防ぐ\n",
        "for j in range(p):\n",
        "    cqm.add_constraint(sum(x[i*p+j] for i in range(n)) <= 2, label=f'NoContinue_{j}')"
      ],
      "metadata": {
        "id": "jstjlPDJ01Nc"
      },
      "execution_count": 72,
      "outputs": []
    },
    {
      "cell_type": "code",
      "source": [
        "# 制約 伴奏にコードに合わせる(実装がよくわからない)"
      ],
      "metadata": {
        "id": "Cz6RrE233x73"
      },
      "execution_count": 73,
      "outputs": []
    },
    {
      "cell_type": "code",
      "source": [
        "bqm, invert = dimod.cqm_to_bqm(cqm,lagrange_multiplier=5)"
      ],
      "metadata": {
        "id": "BGEVjyel5jlm"
      },
      "execution_count": 74,
      "outputs": []
    },
    {
      "cell_type": "code",
      "source": [
        "# nealで検証\n",
        "sampler_sim = neal.SimulatedAnnealingSampler()\n",
        "\n",
        "sampleset = sampler_sim.sample(bqm, num_reads=100)\n",
        "\n",
        "invert(sampleset.first.sample)"
      ],
      "metadata": {
        "colab": {
          "base_uri": "https://localhost:8080/"
        },
        "id": "it-mufSK50jn",
        "outputId": "b59a1ce9-2759-4278-cbfb-60ef5ebad85a"
      },
      "execution_count": 75,
      "outputs": [
        {
          "output_type": "execute_result",
          "data": {
            "text/plain": [
              "{\"x_(0, 'C4')\": 0,\n",
              " \"x_(0, 'D4')\": 0,\n",
              " \"x_(0, 'E4')\": 0,\n",
              " \"x_(0, 'F4')\": 0,\n",
              " \"x_(0, 'G4')\": 0,\n",
              " \"x_(0, 'A4')\": 1,\n",
              " \"x_(0, 'B4')\": 0,\n",
              " \"x_(1, 'C4')\": 0,\n",
              " \"x_(1, 'D4')\": 0,\n",
              " \"x_(1, 'E4')\": 0,\n",
              " \"x_(1, 'F4')\": 1,\n",
              " \"x_(1, 'G4')\": 0,\n",
              " \"x_(1, 'A4')\": 0,\n",
              " \"x_(1, 'B4')\": 0,\n",
              " \"x_(2, 'C4')\": 0,\n",
              " \"x_(2, 'D4')\": 0,\n",
              " \"x_(2, 'E4')\": 0,\n",
              " \"x_(2, 'F4')\": 0,\n",
              " \"x_(2, 'G4')\": 1,\n",
              " \"x_(2, 'A4')\": 0,\n",
              " \"x_(2, 'B4')\": 0,\n",
              " \"x_(3, 'C4')\": 1,\n",
              " \"x_(3, 'D4')\": 0,\n",
              " \"x_(3, 'E4')\": 0,\n",
              " \"x_(3, 'F4')\": 0,\n",
              " \"x_(3, 'G4')\": 0,\n",
              " \"x_(3, 'A4')\": 0,\n",
              " \"x_(3, 'B4')\": 0,\n",
              " \"x_(4, 'C4')\": 0,\n",
              " \"x_(4, 'D4')\": 1,\n",
              " \"x_(4, 'E4')\": 0,\n",
              " \"x_(4, 'F4')\": 0,\n",
              " \"x_(4, 'G4')\": 0,\n",
              " \"x_(4, 'A4')\": 0,\n",
              " \"x_(4, 'B4')\": 0,\n",
              " \"x_(5, 'C4')\": 0,\n",
              " \"x_(5, 'D4')\": 0,\n",
              " \"x_(5, 'E4')\": 0,\n",
              " \"x_(5, 'F4')\": 0,\n",
              " \"x_(5, 'G4')\": 0,\n",
              " \"x_(5, 'A4')\": 1,\n",
              " \"x_(5, 'B4')\": 0,\n",
              " \"x_(6, 'C4')\": 0,\n",
              " \"x_(6, 'D4')\": 0,\n",
              " \"x_(6, 'E4')\": 1,\n",
              " \"x_(6, 'F4')\": 0,\n",
              " \"x_(6, 'G4')\": 0,\n",
              " \"x_(6, 'A4')\": 0,\n",
              " \"x_(6, 'B4')\": 0,\n",
              " \"x_(7, 'C4')\": 0,\n",
              " \"x_(7, 'D4')\": 0,\n",
              " \"x_(7, 'E4')\": 0,\n",
              " \"x_(7, 'F4')\": 0,\n",
              " \"x_(7, 'G4')\": 1,\n",
              " \"x_(7, 'A4')\": 0,\n",
              " \"x_(7, 'B4')\": 0}"
            ]
          },
          "metadata": {},
          "execution_count": 75
        }
      ]
    },
    {
      "cell_type": "code",
      "source": [
        "# 実行結果から、何番目に何が鳴るかを取り出す\n",
        "best_dict = invert(sampleset.first.sample)\n",
        "best_list = []\n",
        "for ij in best_dict.keys():\n",
        "    if best_dict[ij] == 1:\n",
        "        best_list.append(ij)    \n",
        "\n",
        "best_list"
      ],
      "metadata": {
        "colab": {
          "base_uri": "https://localhost:8080/"
        },
        "id": "TKCqxUT96BZG",
        "outputId": "d7584219-14f2-4da9-cae1-6971a843cbfc"
      },
      "execution_count": 87,
      "outputs": [
        {
          "output_type": "execute_result",
          "data": {
            "text/plain": [
              "[\"x_(0, 'A4')\",\n",
              " \"x_(1, 'F4')\",\n",
              " \"x_(2, 'G4')\",\n",
              " \"x_(3, 'C4')\",\n",
              " \"x_(4, 'D4')\",\n",
              " \"x_(5, 'A4')\",\n",
              " \"x_(6, 'E4')\",\n",
              " \"x_(7, 'G4')\"]"
            ]
          },
          "metadata": {},
          "execution_count": 87
        }
      ]
    },
    {
      "cell_type": "markdown",
      "source": [
        "これは、\n",
        "「ラ、ファ、ソ、ド」「レ、ラ、ミ、ソ」ということである。\n",
        "\n",
        "1音節に1音、音が2回より多く連続しないという制約は守られている。\n",
        "\n",
        "今回は、伴奏に合わせた制約を入れていないので、今のところ満足した結果が得られている。"
      ],
      "metadata": {
        "id": "gcpmx9EF9XUL"
      }
    },
    {
      "cell_type": "code",
      "source": [],
      "metadata": {
        "id": "idxrIScy9H_R"
      },
      "execution_count": null,
      "outputs": []
    }
  ]
}